{
 "cells": [
  {
   "cell_type": "markdown",
   "metadata": {
    "toc": true
   },
   "source": [
    "<h1>Table of Contents<span class=\"tocSkip\"></span></h1>\n",
    "<div class=\"toc\"><ul class=\"toc-item\"><li><span><a href=\"#Model-parameters\" data-toc-modified-id=\"Model-parameters-1\"><span class=\"toc-item-num\">1&nbsp;&nbsp;</span>Model parameters</a></span></li><li><span><a href=\"#number-of-data-points\" data-toc-modified-id=\"number-of-data-points-2\"><span class=\"toc-item-num\">2&nbsp;&nbsp;</span>number of data points</a></span></li><li><span><a href=\"#simulate-the-data\" data-toc-modified-id=\"simulate-the-data-3\"><span class=\"toc-item-num\">3&nbsp;&nbsp;</span>simulate the data</a></span></li><li><span><a href=\"#find-$2_{nd}$-and-$3_{rd}$-sample-autocorrelation\" data-toc-modified-id=\"find-$2_{nd}$-and-$3_{rd}$-sample-autocorrelation-4\"><span class=\"toc-item-num\">4&nbsp;&nbsp;</span>find $2_{nd}$ and $3_{rd}$ sample autocorrelation</a></span></li><li><span><a href=\"#Create-2*2-matrix-R\" data-toc-modified-id=\"Create-2*2-matrix-R-5\"><span class=\"toc-item-num\">5&nbsp;&nbsp;</span>Create 2*2 matrix R</a></span></li><li><span><a href=\"#Put-sample-autocorrelation-to-a-vector\" data-toc-modified-id=\"Put-sample-autocorrelation-to-a-vector-6\"><span class=\"toc-item-num\">6&nbsp;&nbsp;</span>Put sample autocorrelation to a vector</a></span></li><li><span><a href=\"#Find-x-to-satisfy-$Rx=b$,-$x-=-R^{-1}b$\" data-toc-modified-id=\"Find-x-to-satisfy-$Rx=b$,-$x-=-R^{-1}b$-7\"><span class=\"toc-item-num\">7&nbsp;&nbsp;</span>Find x to satisfy $Rx=b$, $x = R^{-1}b$</a></span></li><li><span><a href=\"#Find-the-variance-of-$z_t$\" data-toc-modified-id=\"Find-the-variance-of-$z_t$-8\"><span class=\"toc-item-num\">8&nbsp;&nbsp;</span>Find the variance of $z_t$</a></span></li></ul></div>"
   ]
  },
  {
   "cell_type": "markdown",
   "metadata": {},
   "source": [
    "* $x_t = \\phi_1*x_(t-2) +\\phi_2*x_(t-2) +z_t$\n",
    "* $z_t$~$N(0,\\sigma^2)$"
   ]
  },
  {
   "cell_type": "code",
   "execution_count": 1,
   "metadata": {},
   "outputs": [],
   "source": [
    "set.seed(2017)"
   ]
  },
  {
   "cell_type": "markdown",
   "metadata": {},
   "source": [
    "### Model parameters"
   ]
  },
  {
   "cell_type": "code",
   "execution_count": 2,
   "metadata": {},
   "outputs": [
    {
     "data": {
      "text/html": [
       "<ol class=list-inline>\n",
       "\t<li>0.333333333333333</li>\n",
       "\t<li>0.5</li>\n",
       "</ol>\n"
      ],
      "text/latex": [
       "\\begin{enumerate*}\n",
       "\\item 0.333333333333333\n",
       "\\item 0.5\n",
       "\\end{enumerate*}\n"
      ],
      "text/markdown": [
       "1. 0.333333333333333\n",
       "2. 0.5\n",
       "\n",
       "\n"
      ],
      "text/plain": [
       "[1] 0.3333333 0.5000000"
      ]
     },
     "metadata": {},
     "output_type": "display_data"
    }
   ],
   "source": [
    "sigma = 4\n",
    "phi = NULL\n",
    "phi[1:2] = c(1/3,1/2)\n",
    "phi"
   ]
  },
  {
   "cell_type": "markdown",
   "metadata": {},
   "source": [
    "### number of data points"
   ]
  },
  {
   "cell_type": "code",
   "execution_count": 3,
   "metadata": {},
   "outputs": [],
   "source": [
    "n = 10000"
   ]
  },
  {
   "cell_type": "markdown",
   "metadata": {},
   "source": [
    "### simulate the data"
   ]
  },
  {
   "cell_type": "code",
   "execution_count": 4,
   "metadata": {},
   "outputs": [
    {
     "data": {
      "text/html": [
       "<ol class=list-inline>\n",
       "\t<li>4.08768466761998</li>\n",
       "\t<li>5.5984917197062</li>\n",
       "\t<li>3.01929493617705</li>\n",
       "\t<li>2.44235386119014</li>\n",
       "\t<li>5.39830218361194</li>\n",
       "</ol>\n"
      ],
      "text/latex": [
       "\\begin{enumerate*}\n",
       "\\item 4.08768466761998\n",
       "\\item 5.5984917197062\n",
       "\\item 3.01929493617705\n",
       "\\item 2.44235386119014\n",
       "\\item 5.39830218361194\n",
       "\\end{enumerate*}\n"
      ],
      "text/markdown": [
       "1. 4.08768466761998\n",
       "2. 5.5984917197062\n",
       "3. 3.01929493617705\n",
       "4. 2.44235386119014\n",
       "5. 5.39830218361194\n",
       "\n",
       "\n"
      ],
      "text/plain": [
       "[1] 4.087685 5.598492 3.019295 2.442354 5.398302"
      ]
     },
     "metadata": {},
     "output_type": "display_data"
    }
   ],
   "source": [
    "ar.process = arima.sim(n,model = list(ar = c(1/3,1/2)),sd =4)\n",
    "ar.process[1:5]"
   ]
  },
  {
   "cell_type": "markdown",
   "metadata": {},
   "source": [
    "### find $2_{nd}$ and $3_{rd}$ sample autocorrelation"
   ]
  },
  {
   "cell_type": "code",
   "execution_count": 5,
   "metadata": {},
   "outputs": [
    {
     "data": {
      "text/html": [
       "<ol class=list-inline>\n",
       "\t<li>0.681410288563695</li>\n",
       "\t<li>0.725582481184244</li>\n",
       "</ol>\n"
      ],
      "text/latex": [
       "\\begin{enumerate*}\n",
       "\\item 0.681410288563695\n",
       "\\item 0.725582481184244\n",
       "\\end{enumerate*}\n"
      ],
      "text/markdown": [
       "1. 0.681410288563695\n",
       "2. 0.725582481184244\n",
       "\n",
       "\n"
      ],
      "text/plain": [
       "[1] 0.6814103 0.7255825"
      ]
     },
     "metadata": {},
     "output_type": "display_data"
    }
   ],
   "source": [
    "r=NULL\n",
    "r[1:2]=acf(ar.process,plot = F)$acf[2:3]\n",
    "r"
   ]
  },
  {
   "cell_type": "markdown",
   "metadata": {},
   "source": [
    "### Create 2*2 matrix R"
   ]
  },
  {
   "cell_type": "code",
   "execution_count": 6,
   "metadata": {},
   "outputs": [
    {
     "data": {
      "text/html": [
       "<table>\n",
       "<tbody>\n",
       "\t<tr><td>1.0000000</td><td>0.6814103</td></tr>\n",
       "\t<tr><td>0.6814103</td><td>1.0000000</td></tr>\n",
       "</tbody>\n",
       "</table>\n"
      ],
      "text/latex": [
       "\\begin{tabular}{ll}\n",
       "\t 1.0000000 & 0.6814103\\\\\n",
       "\t 0.6814103 & 1.0000000\\\\\n",
       "\\end{tabular}\n"
      ],
      "text/markdown": [
       "\n",
       "| 1.0000000 | 0.6814103 |\n",
       "| 0.6814103 | 1.0000000 |\n",
       "\n"
      ],
      "text/plain": [
       "     [,1]      [,2]     \n",
       "[1,] 1.0000000 0.6814103\n",
       "[2,] 0.6814103 1.0000000"
      ]
     },
     "metadata": {},
     "output_type": "display_data"
    }
   ],
   "source": [
    "R = matrix(1,2,2)\n",
    "R[1,2] = r[1]\n",
    "R[2,1] = r[1]\n",
    "R"
   ]
  },
  {
   "cell_type": "markdown",
   "metadata": {},
   "source": [
    "### Put sample autocorrelation to a vector"
   ]
  },
  {
   "cell_type": "code",
   "execution_count": 7,
   "metadata": {},
   "outputs": [
    {
     "data": {
      "text/html": [
       "<table>\n",
       "<tbody>\n",
       "\t<tr><td>0.6814103</td></tr>\n",
       "\t<tr><td>0.7255825</td></tr>\n",
       "</tbody>\n",
       "</table>\n"
      ],
      "text/latex": [
       "\\begin{tabular}{l}\n",
       "\t 0.6814103\\\\\n",
       "\t 0.7255825\\\\\n",
       "\\end{tabular}\n"
      ],
      "text/markdown": [
       "\n",
       "| 0.6814103 |\n",
       "| 0.7255825 |\n",
       "\n"
      ],
      "text/plain": [
       "     [,1]     \n",
       "[1,] 0.6814103\n",
       "[2,] 0.7255825"
      ]
     },
     "metadata": {},
     "output_type": "display_data"
    }
   ],
   "source": [
    "b = matrix(r,nrow = 2,ncol = 1)\n",
    "b"
   ]
  },
  {
   "cell_type": "markdown",
   "metadata": {},
   "source": [
    "### Find x to satisfy $Rx=b$, $x = R^{-1}b$"
   ]
  },
  {
   "cell_type": "code",
   "execution_count": 8,
   "metadata": {},
   "outputs": [
    {
     "data": {
      "text/html": [
       "<table>\n",
       "<tbody>\n",
       "\t<tr><td>0.3490720</td></tr>\n",
       "\t<tr><td>0.4877212</td></tr>\n",
       "</tbody>\n",
       "</table>\n"
      ],
      "text/latex": [
       "\\begin{tabular}{l}\n",
       "\t 0.3490720\\\\\n",
       "\t 0.4877212\\\\\n",
       "\\end{tabular}\n"
      ],
      "text/markdown": [
       "\n",
       "| 0.3490720 |\n",
       "| 0.4877212 |\n",
       "\n"
      ],
      "text/plain": [
       "     [,1]     \n",
       "[1,] 0.3490720\n",
       "[2,] 0.4877212"
      ]
     },
     "metadata": {},
     "output_type": "display_data"
    }
   ],
   "source": [
    "phi.hat = matrix(c(solve(R,b)[1,1],solve(R,b)[2,1]),2,1)\n",
    "phi.hat"
   ]
  },
  {
   "cell_type": "markdown",
   "metadata": {},
   "source": [
    "### Find the variance of $z_t$"
   ]
  },
  {
   "cell_type": "code",
   "execution_count": 9,
   "metadata": {},
   "outputs": [
    {
     "data": {
      "text/html": [
       "16.3716899100558"
      ],
      "text/latex": [
       "16.3716899100558"
      ],
      "text/markdown": [
       "16.3716899100558"
      ],
      "text/plain": [
       "[1] 16.37169"
      ]
     },
     "metadata": {},
     "output_type": "display_data"
    }
   ],
   "source": [
    "c0 = acf(ar.process,type = \"covariance\",plot = F)$acf[1]\n",
    "var.hat = c0*(1-sum(phi.hat*r))\n",
    "var.hat"
   ]
  },
  {
   "cell_type": "code",
   "execution_count": 10,
   "metadata": {},
   "outputs": [
    {
     "data": {
      "image/png": "[encoded data removed]",
      "text/plain": [
       "Plot with title \"Series  ar.process\""
      ]
     },
     "metadata": {},
     "output_type": "display_data"
    }
   ],
   "source": [
    "par(mfrow = c(3,1))\n",
    "plot(ar.process)\n",
    "acf(ar.process)\n",
    "pacf(ar.process)"
   ]
  }
 ],
 "metadata": {
  "kernelspec": {
   "display_name": "R",
   "language": "R",
   "name": "ir"
  },
  "language_info": {
   "codemirror_mode": "r",
   "file_extension": ".r",
   "mimetype": "text/x-r-source",
   "name": "R",
   "pygments_lexer": "r",
   "version": "3.6.1"
  },
  "toc": {
   "base_numbering": 1,
   "nav_menu": {},
   "number_sections": true,
   "sideBar": true,
   "skip_h1_title": true,
   "title_cell": "Table of Contents",
   "title_sidebar": "Contents",
   "toc_cell": true,
   "toc_position": {},
   "toc_section_display": true,
   "toc_window_display": true
  }
 },
 "nbformat": 4,
 "nbformat_minor": 4
}
